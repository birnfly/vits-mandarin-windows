{
  "cells": [
    {
      "cell_type": "code",
      "execution_count": null,
      "metadata": {},
      "outputs": [],
      "source": [
        "# Configurable colab notebook for VITS contributed by 蓝琪猫（https://space.bilibili.com/455034987）"
      ]
    },
    {
      "cell_type": "code",
      "execution_count": null,
      "metadata": {
        "colab": {
          "base_uri": "https://localhost:8080/"
        },
        "id": "LXKf1QRIC9kS",
        "outputId": "340a58a0-8cdc-4009-f462-b63659844a55"
      },
      "outputs": [],
      "source": [
        "import os\n",
        "from google.colab import drive\n",
        "drive.mount('/content/drive')\n",
        "\n",
        "path = \"/content/drive/My Drive\"\n",
        "\n",
        "os.chdir(path)\n",
        "os.listdir(path)\n"
      ]
    },
    {
      "attachments": {},
      "cell_type": "markdown",
      "metadata": {
        "id": "YWLfd2naDSlE"
      },
      "source": [
        "# 新段落"
      ]
    },
    {
      "attachments": {},
      "cell_type": "markdown",
      "metadata": {
        "id": "XDFawvglIBRS"
      },
      "source": [
        "安装依赖\n"
      ]
    },
    {
      "cell_type": "code",
      "execution_count": null,
      "metadata": {
        "colab": {
          "base_uri": "https://localhost:8080/"
        },
        "id": "RZQCiLEUFS8H",
        "outputId": "dc2ea16f-ff17-4ed7-a0fd-6bd9a8298a80"
      },
      "outputs": [],
      "source": [
        "%cd /content/drive/MyDrive/vits-mandarin-windows-mandarin\n",
        "!pip install -r requirements.txt\n",
        "!pip install demjson\n",
        "!pip install noisereduce\n",
        "!pip install unidecode\n",
        "!pip install phonemizer"
      ]
    },
    {
      "attachments": {},
      "cell_type": "markdown",
      "metadata": {
        "id": "XJEMukU9IJmS"
      },
      "source": [
        "对齐"
      ]
    },
    {
      "cell_type": "code",
      "execution_count": null,
      "metadata": {
        "colab": {
          "base_uri": "https://localhost:8080/"
        },
        "id": "NKxjG7mEMLiX",
        "outputId": "66a6ff37-ed4b-4aaf-f0f1-2ff42ebc00d1"
      },
      "outputs": [],
      "source": [
        "%cd /content/drive/MyDrive/vits-mandarin-windows-mandarin/monotonic_align\n",
        "!python setup.py build_ext --inplace\n",
        "%cd .."
      ]
    },
    {
      "cell_type": "code",
      "execution_count": null,
      "metadata": {
        "colab": {
          "base_uri": "https://localhost:8080/"
        },
        "id": "Usn0-i598WHx",
        "outputId": "d97be093-1a72-4442-c99e-e245a8f04659"
      },
      "outputs": [],
      "source": [
        "%cd root/content/drive/MyDrive/vits-mandarin-windows-mandarin\n",
        "!python preprocess.py --text_index 1 --filelists filelists/wz_train.txt\n",
        "!python preprocess.py --text_index 1 --filelists filelists/wz_val.txt"
      ]
    },
    {
      "cell_type": "code",
      "execution_count": null,
      "metadata": {
        "id": "F-O7jayw8JZ3"
      },
      "outputs": [],
      "source": [
        "#@title 生成配置文件\n",
        "# forked from https://github.com/rotten-work/vits-mandarin-windows/blob/mandarin/configs/bb_base.json\n",
        "#@markdown 训练次数\n",
        "set_epochs = 15001 #@param {type:\"integer\"}\n",
        "#@markdown 训练集位置\n",
        "set_training_files = \"filelists/xia_train.txt\" #@param {type:\"string\"}\n",
        "#@markdown 验证集位置\n",
        "set_validation_files = \"filelists/xia_val.txt\"#@param {type:\"string\"}\n",
        "#@markdown 每隔多少次step保存一次\n",
        "set_eval_interval = 1000 #@param {type:\"integer\"}\n",
        "#@markdown 单次step的文件数\n",
        "set_batch_size = 12 #@param {type:\"integer\"}\n",
        "#@markdown 配置文件名称\n",
        "set_json_name = \"wz2mx.json\" #@param {type:\"string\"}\n",
        "\n",
        "training_json = {\n",
        "  \"train\": {\n",
        "    \"log_interval\": 200,\n",
        "    \"eval_interval\": set_eval_interval,\n",
        "    \"seed\": 1234 ,\n",
        "    \"epochs\": set_epochs,\n",
        "    \"learning_rate\": 2e-4,\n",
        "    \"betas\": [0.8, 0.99],\n",
        "    \"eps\": 1e-9,\n",
        "    \"batch_size\": set_batch_size,\n",
        "    \"fp16_run\": True,\n",
        "    \"lr_decay\": 0.999875,\n",
        "    \"segment_size\": 8192,\n",
        "    \"init_lr_ratio\": 1,\n",
        "    \"warmup_epochs\": 0,\n",
        "    \"c_mel\": 45,\n",
        "    \"c_kl\": 1.0\n",
        "  },\n",
        "  \"data\": {\n",
        "    \"training_files\": set_training_files + \".cleaned\",\n",
        "    \"validation_files\": set_validation_files + \".cleaned\",\n",
        "    \"language\": \"cmn\",\n",
        "    \"text_cleaners\":[\"chinese_cleaners\"],\n",
        "    \"max_wav_value\": 32768.0,\n",
        "    \"sampling_rate\": 22050,\n",
        "    \"filter_length\": 1024,\n",
        "    \"hop_length\": 256,\n",
        "    \"win_length\": 1024,\n",
        "    \"n_mel_channels\": 80,\n",
        "    \"mel_fmin\": 0.0,\n",
        "    \"mel_fmax\": None,\n",
        "    \"add_blank\": True,\n",
        "    \"n_speakers\": 0,\n",
        "    \"cleaned_text\": True\n",
        "  },\n",
        "  \"model\": {\n",
        "    \"inter_channels\": 192,\n",
        "    \"hidden_channels\": 192,\n",
        "    \"filter_channels\": 768,\n",
        "    \"n_heads\": 2,\n",
        "    \"n_layers\": 6,\n",
        "    \"kernel_size\": 3,\n",
        "    \"p_dropout\": 0.1,\n",
        "    \"resblock\": \"1\",\n",
        "    \"resblock_kernel_sizes\": [3,7,11],\n",
        "    \"resblock_dilation_sizes\": [[1,3,5], [1,3,5], [1,3,5]],\n",
        "    \"upsample_rates\": [8,8,2,2],\n",
        "    \"upsample_initial_channel\": 512,\n",
        "    \"upsample_kernel_sizes\": [16,16,4,4],\n",
        "    \"n_layers_q\": 3,\n",
        "    \"use_spectral_norm\": False\n",
        "  },\n",
        "  \"data_loader\": {\n",
        "    \"use_train_sampler\": True,\n",
        "    \"num_workers\": 2\n",
        "  },\n",
        "  \"checkpoints\": {\n",
        "    \"auto_delete_old_checkpoints\": True,\n",
        "    \"replace_old_checkpoints_mode\": False,\n",
        "    \"num_checkpoints_to_keep\": 4\n",
        "  }\n",
        "}\n",
        "\n",
        "import demjson\n",
        "import os\n",
        "os.chdir('/content/drive/MyDrive/vits-mandarin-windows-mandarin/configs')\n",
        "training_json_text = demjson.encode(training_json)\n",
        "with open(set_json_name, \"w\") as file:\n",
        "  file.write(training_json_text)\n",
        "  os.chdir('/content/drive/MyDrive/vits-mandarin-windows-mandarin')"
      ]
    },
    {
      "attachments": {},
      "cell_type": "markdown",
      "metadata": {
        "id": "4tkT7b2aH7Bq"
      },
      "source": [
        "开始训练"
      ]
    },
    {
      "cell_type": "code",
      "execution_count": null,
      "metadata": {
        "id": "0YhbMTDGOAFO"
      },
      "outputs": [],
      "source": [
        "os.environ['PYTHONPATH']='.'\n",
        "!CUDA_VISIBLE_DEVICES=0"
      ]
    },
    {
      "cell_type": "code",
      "execution_count": null,
      "metadata": {
        "colab": {
          "base_uri": "https://localhost:8080/"
        },
        "id": "o7wpM0X4oXKw",
        "outputId": "ab86e518-b3a1-4503-b9d4-8c576de066f8"
      },
      "outputs": [],
      "source": [
        "%cd /content/drive/MyDrive/vits-mandarin-windows-mandarin\n",
        "!python train.py -c configs/xiamx.json -m xia"
      ]
    },
    {
      "attachments": {},
      "cell_type": "markdown",
      "metadata": {
        "id": "gkU4aZQ9IPlD"
      },
      "source": [
        "推理（暂时）"
      ]
    },
    {
      "cell_type": "code",
      "execution_count": null,
      "metadata": {
        "colab": {
          "base_uri": "https://localhost:8080/"
        },
        "id": "rJtovCUTBlUS",
        "outputId": "91418670-a676-4d1d-a6ee-4b834cbf33b1"
      },
      "outputs": [],
      "source": [
        "%cd /content/drive/MyDrive/vits-mandarin-windows-mandarin\n",
        "!python inference.py"
      ]
    }
  ],
  "metadata": {
    "accelerator": "GPU",
    "colab": {
      "provenance": []
    },
    "gpuClass": "standard",
    "kernelspec": {
      "display_name": "Python 3",
      "name": "python3"
    },
    "language_info": {
      "name": "python"
    }
  },
  "nbformat": 4,
  "nbformat_minor": 0
}
